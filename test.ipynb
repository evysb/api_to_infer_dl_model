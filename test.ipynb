{
 "cells": [
  {
   "cell_type": "code",
   "execution_count": 14,
   "metadata": {},
   "outputs": [],
   "source": [
    "import pickle\n",
    "import pandas as pd\n",
    "import requests\n",
    "import numpy as np\n",
    "import cv2\n",
    "import base64, io"
   ]
  },
  {
   "cell_type": "code",
   "execution_count": 15,
   "metadata": {},
   "outputs": [],
   "source": [
    "def decode_bytes_to_images(im_b64):\n",
    "    im_bytes = base64.b64decode(im_b64)\n",
    "    im_arr = np.frombuffer(im_bytes, dtype=np.uint8)\n",
    "    img = cv2.imdecode(im_arr, flags=cv2.IMREAD_COLOR)\n",
    "    return img\n",
    "\n",
    "def encode_image_to_bytes(img):\n",
    "    _, im_arr = cv2.imencode('.jpg', img)\n",
    "    im_bytes = im_arr.tobytes()\n",
    "    im_b64 = base64.b64encode(im_bytes)\n",
    "    return im_b64"
   ]
  },
  {
   "cell_type": "code",
   "execution_count": 16,
   "metadata": {},
   "outputs": [],
   "source": [
    "def prepare_image_and_send(image_path):\n",
    "    img = cv2.imread(image_path)\n",
    "    im_enc = encode_image_to_bytes(img)\n",
    "    content = [im_enc]\n",
    "    dict_content = {\"image\": content}\n",
    "    url='http://127.0.0.1:5000/api/1.0/inference'\n",
    "    x = requests.post(url, data = dict_content)\n",
    "    return x   \n",
    "    "
   ]
  },
  {
   "cell_type": "code",
   "execution_count": 17,
   "metadata": {},
   "outputs": [
    {
     "name": "stdout",
     "output_type": "stream",
     "text": [
      "<Response [200]>\n",
      "{'class': 'normal'}\n"
     ]
    }
   ],
   "source": [
    "x = prepare_image_and_send(\"test_images/IM-0033-0001-0001.jpeg\")\n",
    "print(x)\n",
    "print(x.json())"
   ]
  },
  {
   "cell_type": "code",
   "execution_count": 18,
   "metadata": {},
   "outputs": [
    {
     "name": "stdout",
     "output_type": "stream",
     "text": [
      "<Response [200]>\n",
      "{'class': 'covid'}\n"
     ]
    }
   ],
   "source": [
    "x = prepare_image_and_send(\"test_images/1-s2.0-S0929664620300449-gr2_lrg-a.jpg\")\n",
    "print(x)\n",
    "print(x.json())"
   ]
  },
  {
   "cell_type": "code",
   "execution_count": 19,
   "metadata": {},
   "outputs": [
    {
     "name": "stdout",
     "output_type": "stream",
     "text": [
      "<Response [200]>\n",
      "{'class': 'covid'}\n"
     ]
    }
   ],
   "source": [
    "x = prepare_image_and_send(\"test_images/auntminnie-a-2020_01_28_23_51_6665_2020_01_28_Vietnam_coronavirus.jpeg\")\n",
    "print(x)\n",
    "print(x.json())"
   ]
  },
  {
   "cell_type": "code",
   "execution_count": null,
   "metadata": {},
   "outputs": [],
   "source": []
  },
  {
   "cell_type": "code",
   "execution_count": null,
   "metadata": {},
   "outputs": [],
   "source": []
  }
 ],
 "metadata": {
  "kernelspec": {
   "display_name": "Python 3",
   "language": "python",
   "name": "python3"
  },
  "language_info": {
   "codemirror_mode": {
    "name": "ipython",
    "version": 3
   },
   "file_extension": ".py",
   "mimetype": "text/x-python",
   "name": "python",
   "nbconvert_exporter": "python",
   "pygments_lexer": "ipython3",
   "version": "3.6.9"
  },
  "vscode": {
   "interpreter": {
    "hash": "a4628c636f8c397e5ad92a51c5f15cfaf71aedd0ee31992c54d690f4ea81a78b"
   }
  }
 },
 "nbformat": 4,
 "nbformat_minor": 2
}
