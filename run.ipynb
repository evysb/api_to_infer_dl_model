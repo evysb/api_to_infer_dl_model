{
 "cells": [
  {
   "cell_type": "code",
   "execution_count": 8,
   "metadata": {},
   "outputs": [],
   "source": [
    "import pickle\n",
    "import pandas as pd\n",
    "import requests\n",
    "import numpy as np\n",
    "import cv2\n",
    "import base64, io"
   ]
  },
  {
   "cell_type": "code",
   "execution_count": 2,
   "metadata": {},
   "outputs": [],
   "source": [
    "def decode_bytes_to_images(im_b64):\n",
    "    im_bytes = base64.b64decode(im_b64)\n",
    "    im_arr = np.frombuffer(im_bytes, dtype=np.uint8)\n",
    "    img = cv2.imdecode(im_arr, flags=cv2.IMREAD_COLOR)\n",
    "    return img\n",
    "\n",
    "def encode_image_to_bytes(img):\n",
    "    _, im_arr = cv2.imencode('.jpg', img)\n",
    "    im_bytes = im_arr.tobytes()\n",
    "    im_b64 = base64.b64encode(im_bytes)\n",
    "    return im_b64"
   ]
  },
  {
   "cell_type": "code",
   "execution_count": 23,
   "metadata": {},
   "outputs": [
    {
     "name": "stdout",
     "output_type": "stream",
     "text": [
      "<Response [200]>\n",
      "{'sim_cos': 1.0}\n"
     ]
    }
   ],
   "source": [
    "img = cv2.imread(\"test_image/IM-0033-0001-0001.jpeg\")\n",
    "im_enc = encode_image_to_bytes(img)\n",
    "content = [im_enc]\n",
    "dict_content = {\"image\": content}\n",
    "url='http://127.0.0.1:5000/api/1.0/inference'\n",
    "x = requests.post(url, data = dict_content)\n",
    "print(x)\n",
    "print(x.json())"
   ]
  }
 ],
 "metadata": {
  "kernelspec": {
   "display_name": "Python 3",
   "language": "python",
   "name": "python3"
  },
  "language_info": {
   "codemirror_mode": {
    "name": "ipython",
    "version": 3
   },
   "file_extension": ".py",
   "mimetype": "text/x-python",
   "name": "python",
   "nbconvert_exporter": "python",
   "pygments_lexer": "ipython3",
   "version": "3.7.9"
  },
  "vscode": {
   "interpreter": {
    "hash": "093d4653f976a4c7606a0564937f51e544199a05580601e9ef5cba276714f966"
   }
  }
 },
 "nbformat": 4,
 "nbformat_minor": 2
}
